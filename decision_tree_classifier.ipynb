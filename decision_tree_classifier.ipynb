{
  "nbformat": 4,
  "nbformat_minor": 0,
  "metadata": {
    "colab": {
      "name": "decision_tree_classifier.ipynb",
      "version": "0.3.2",
      "provenance": []
    },
    "kernelspec": {
      "name": "python2",
      "display_name": "Python 2"
    }
  },
  "cells": [
    {
      "cell_type": "markdown",
      "metadata": {
        "id": "view-in-github",
        "colab_type": "text"
      },
      "source": [
        "[View in Colaboratory](https://colab.research.google.com/github/ysfmag/decision_tree_classifier/blob/master/decision_tree_classifier.ipynb)"
      ]
    },
    {
      "metadata": {
        "id": "GpuLuFRJncua",
        "colab_type": "text"
      },
      "cell_type": "markdown",
      "source": [
        "** Decision Tree **\n",
        "\n",
        "classification using Decision tree classifier \n",
        "\n"
      ]
    },
    {
      "metadata": {
        "id": "-_gq9I_VizJv",
        "colab_type": "code",
        "colab": {}
      },
      "cell_type": "code",
      "source": [
        "from sklearn import tree"
      ],
      "execution_count": 0,
      "outputs": []
    },
    {
      "metadata": {
        "id": "Ty9-GwayjS-T",
        "colab_type": "code",
        "colab": {}
      },
      "cell_type": "code",
      "source": [
        "clf = tree.DecisionTreeClassifier()"
      ],
      "execution_count": 0,
      "outputs": []
    },
    {
      "metadata": {
        "id": "j_rSE5MynuLG",
        "colab_type": "text"
      },
      "cell_type": "markdown",
      "source": [
        "The **data type ** for the data set x : \n",
        "\n",
        "[height, weight, shoe_size]"
      ]
    },
    {
      "metadata": {
        "id": "kQ8nmuSzlukr",
        "colab_type": "code",
        "colab": {}
      },
      "cell_type": "code",
      "source": [
        "X = [[181, 80, 44], [177, 70, 43], [160, 60, 38], [154, 54, 37], [166, 65, 40],\n",
        "     [190, 90, 47], [175, 64, 39],\n",
        "     [177, 70, 40], [159, 55, 37], [171, 75, 42], [181, 85, 43]]"
      ],
      "execution_count": 0,
      "outputs": []
    },
    {
      "metadata": {
        "id": "vlAd_E3pobFn",
        "colab_type": "text"
      },
      "cell_type": "markdown",
      "source": [
        "The label for the data set\n"
      ]
    },
    {
      "metadata": {
        "id": "FWwA_Hctlyhh",
        "colab_type": "code",
        "colab": {}
      },
      "cell_type": "code",
      "source": [
        "\n",
        "Y = ['male', 'male', 'female', 'female', 'male', 'male', 'female', 'female',\n",
        "     'female', 'male', 'male']"
      ],
      "execution_count": 0,
      "outputs": []
    },
    {
      "metadata": {
        "id": "LwHun8OUol9i",
        "colab_type": "text"
      },
      "cell_type": "markdown",
      "source": [
        "Train the decision tree  on our data"
      ]
    },
    {
      "metadata": {
        "id": "91pw2IPVl06v",
        "colab_type": "code",
        "colab": {}
      },
      "cell_type": "code",
      "source": [
        "clf = clf.fit(X, Y)"
      ],
      "execution_count": 0,
      "outputs": []
    },
    {
      "metadata": {
        "id": "tzLiuKrIo4-T",
        "colab_type": "text"
      },
      "cell_type": "markdown",
      "source": [
        "Cool , And now we start prediction :D\n"
      ]
    },
    {
      "metadata": {
        "id": "UGhhkyK0l4Y5",
        "colab_type": "code",
        "colab": {}
      },
      "cell_type": "code",
      "source": [
        "prediction = clf.predict([[190, 70, 43]])"
      ],
      "execution_count": 0,
      "outputs": []
    },
    {
      "metadata": {
        "id": "oYTCDKawo-Ny",
        "colab_type": "text"
      },
      "cell_type": "markdown",
      "source": [
        "that's awesome man"
      ]
    },
    {
      "metadata": {
        "id": "qK-fah78l6s9",
        "colab_type": "code",
        "colab": {
          "base_uri": "https://localhost:8080/",
          "height": 34
        },
        "outputId": "26ec1b21-7526-4d70-9de1-51075db406a2"
      },
      "cell_type": "code",
      "source": [
        "print(prediction)"
      ],
      "execution_count": 8,
      "outputs": [
        {
          "output_type": "stream",
          "text": [
            "['male']\n"
          ],
          "name": "stdout"
        }
      ]
    }
  ]
}